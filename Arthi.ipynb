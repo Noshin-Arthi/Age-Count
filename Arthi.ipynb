{
  "nbformat": 4,
  "nbformat_minor": 0,
  "metadata": {
    "colab": {
      "name": "Arthi.ipynb",
      "provenance": [],
      "collapsed_sections": []
    },
    "kernelspec": {
      "name": "python3",
      "display_name": "Python 3"
    },
    "language_info": {
      "name": "python"
    }
  },
  "cells": [
    {
      "cell_type": "code",
      "execution_count": 5,
      "metadata": {
        "colab": {
          "base_uri": "https://localhost:8080/"
        },
        "id": "YloP35pUola2",
        "outputId": "1a240abd-a80e-4609-b774-d8e4d1ff10e0"
      },
      "outputs": [
        {
          "output_type": "stream",
          "name": "stdout",
          "text": [
            " Please enter your birth year 1998\n",
            " Please enter your birth month number. Example: Enter 3 for if you were born in March 8\n",
            " Please enter the day you were born. Example: If you were born in 13th March, enter 13 30\n",
            "You are 23.542465753424658 years 286.43333333333334 months and 8593 days old\n"
          ]
        }
      ],
      "source": [
        "import datetime\n",
        "Year = int(input(\" Please enter your birth year \"))\n",
        "Month = int(input(\" Please enter your birth month number. Example: Enter 3 for if you were born in March \"))\n",
        "Day = int(input(\" Please enter the day you were born. Example: If you were born in 13th March, enter 13 \"))\n",
        "birthdate = datetime.datetime(Year,Month,Day)\n",
        "Age = (datetime.datetime.now() - birthdate)\n",
        "conversion = int(Age.days)\n",
        "age_in_years = conversion/365\n",
        "age_in_months = conversion/30\n",
        "print(\"You are \" + str(age_in_years) + \" years \" + str(age_in_months) + \" months \" + \"and \" + str(Age.days) + \" days old\")"
      ]
    },
    {
      "cell_type": "code",
      "source": [
        "# Trying in another way.\n",
        "from datetime import date\n",
        "\n",
        "def age(birthday):\n",
        "    # Object for getting today's date.\n",
        "    today = date.today()\n",
        "      \n",
        "    # Calculating the difference in years, months and date from birth date to current date.\n",
        "    year_difference = today.year - birthday.year - ((today.month, today.day) < (birthday.month, birthday.day))\n",
        "    month_difference = ((year_difference) * 12) - (today.month < birthday.month)\n",
        "    day_difference = ((year_difference) * 365) - (today.day < birthday.day)\n",
        "    age = year_difference, month_difference, day_difference   \n",
        "    return age\n",
        "     \n",
        "birthday = input(\"What is your birthday?\")\n",
        "birthday = datetime.datetime.strptime(birthday,\"%d/%m/%Y\").date() #**\n",
        "print(age(birthday))"
      ],
      "metadata": {
        "colab": {
          "base_uri": "https://localhost:8080/"
        },
        "id": "E05h6RdrwNHF",
        "outputId": "112bab37-d148-4cff-efa2-bb5d544348e4"
      },
      "execution_count": 6,
      "outputs": [
        {
          "output_type": "stream",
          "name": "stdout",
          "text": [
            "What is your birthday?30/08/1998\n",
            "(23, 275, 8394)\n"
          ]
        }
      ]
    }
  ]
}